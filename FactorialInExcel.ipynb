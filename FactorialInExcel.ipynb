{
 "cells": [
  {
   "cell_type": "code",
   "execution_count": 15,
   "id": "c04a0530-e018-44bf-8d5c-1f27183b4750",
   "metadata": {},
   "outputs": [],
   "source": [
    "import pandas as pd\n",
    "import math"
   ]
  },
  {
   "cell_type": "code",
   "execution_count": 23,
   "id": "06253b47-fdb1-49f7-a550-4d016a51c5bf",
   "metadata": {},
   "outputs": [
    {
     "name": "stdout",
     "output_type": "stream",
     "text": [
      "   input  output\n",
      "0      2     NaN\n",
      "1      3     NaN\n",
      "2      6     NaN\n",
      "3      4     NaN\n",
      "4      5     NaN\n",
      "5      6     NaN\n"
     ]
    }
   ],
   "source": [
    "df = pd.read_excel('Factorial_excel_file.xlsx')\n",
    "print(df)"
   ]
  },
  {
   "cell_type": "code",
   "execution_count": 24,
   "id": "939379b7-1ada-4e1a-9a36-c255c880d7c8",
   "metadata": {},
   "outputs": [
    {
     "data": {
      "text/plain": [
       "'\\nwe have to put index=False, without this when doing .to_excel pandas will automatically add the indexes to the cells as an additional column \\nin the 0 place, pushing everything to the right by one column \\n'"
      ]
     },
     "execution_count": 24,
     "metadata": {},
     "output_type": "execute_result"
    }
   ],
   "source": [
    "def factorial(x):#method for calculating the factorial of a number\n",
    "    product = x\n",
    "    for i in range((x-1), 0, -1):\n",
    "        product=product*(x-(x-i))\n",
    "    return product\n",
    "\n",
    "for i in range(0, len(df)): \n",
    "    df.iloc[i, 1] = factorial(df.iloc[i, 0])#printing the output in the column next to input\n",
    "\n",
    "df.to_excel('Factorial_excel_file.xlsx', index = False)#overwriting the existing file with the changed dataframe\n",
    "'''\n",
    "there has to be index=False, without this when doing .to_excel pandas will automatically add the indexes to the cells as an additional column \n",
    "in the 0 place, pushing everything to the right by one column \n",
    "'''"
   ]
  },
  {
   "cell_type": "code",
   "execution_count": null,
   "id": "eacc5b64-9e15-4b4e-bec6-fc77510f66f7",
   "metadata": {},
   "outputs": [],
   "source": []
  }
 ],
 "metadata": {
  "kernelspec": {
   "display_name": "Python 3 (ipykernel)",
   "language": "python",
   "name": "python3"
  },
  "language_info": {
   "codemirror_mode": {
    "name": "ipython",
    "version": 3
   },
   "file_extension": ".py",
   "mimetype": "text/x-python",
   "name": "python",
   "nbconvert_exporter": "python",
   "pygments_lexer": "ipython3",
   "version": "3.12.3"
  }
 },
 "nbformat": 4,
 "nbformat_minor": 5
}
